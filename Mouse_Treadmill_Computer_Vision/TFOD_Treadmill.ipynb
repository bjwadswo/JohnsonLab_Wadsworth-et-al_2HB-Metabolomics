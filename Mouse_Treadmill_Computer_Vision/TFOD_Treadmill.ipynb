{
 "cells": [
  {
   "attachments": {},
   "cell_type": "markdown",
   "metadata": {},
   "source": [
    "#### Tensor Flow Oject Detection\n",
    "Following from Nicknochnack's youtube tutorial\n",
    "see into section for installation\n",
    "github repositories have notebooks for code to reference"
   ]
  },
  {
   "cell_type": "code",
   "execution_count": null,
   "metadata": {},
   "outputs": [],
   "source": []
  }
 ],
 "metadata": {
  "language_info": {
   "name": "python"
  },
  "orig_nbformat": 4
 },
 "nbformat": 4,
 "nbformat_minor": 2
}
